{
 "cells": [
  {
   "cell_type": "code",
   "execution_count": 56,
   "id": "b09a0190",
   "metadata": {},
   "outputs": [
    {
     "name": "stdout",
     "output_type": "stream",
     "text": [
      "{'basic': <function observed_features_example at 0x7f8d220319d0>}\n"
     ]
    }
   ],
   "source": [
    "import pprint\n",
    "import pandas as pd\n",
    "# We can, as usual, access the examples directly.\n",
    "from q2_diversity_lib import examples\n",
    "ofe = examples.observed_features_example\n",
    "\n",
    "# But probably the better way to do this is to get all examples from the plugin.\n",
    "from qiime2.plugins import diversity_lib\n",
    "examples = diversity_lib.methods.observed_features.examples\n",
    "print(examples)\n",
    "pofe = examples['basic']"
   ]
  },
  {
   "cell_type": "code",
   "execution_count": 23,
   "id": "12144a05",
   "metadata": {},
   "outputs": [
    {
     "name": "stdout",
     "output_type": "stream",
     "text": [
      "{'feature_table': <ExecutionUsageVariable name='feature_table', var_type='artifact'>, 'obs_feat_vector': <ExecutionUsageVariable name='obs_feat_vector', var_type='artifact'>}\n",
      "\n",
      "{'feature_table': <ExecutionUsageVariable name='feature_table', var_type='artifact'>, 'obs_feat_vector': <ExecutionUsageVariable name='obs_feat_vector', var_type='artifact'>}\n"
     ]
    }
   ],
   "source": [
    "from qiime2.sdk.usage import ExecutionUsage\n",
    "# Execute the examples and look at the result\n",
    "ex_use = ExecutionUsage()\n",
    "eres = ofe(ex_use)\n",
    "print(ex_use.render())\n",
    "\n",
    "print()\n",
    "\n",
    "ex2 = ExecutionUsage()\n",
    "peres = pofe(ex2)\n",
    "print(ex_use.render())"
   ]
  },
  {
   "cell_type": "code",
   "execution_count": 34,
   "id": "c8137247",
   "metadata": {},
   "outputs": [
    {
     "name": "stdout",
     "output_type": "stream",
     "text": [
      "# observed_features takes a basic qualitative or quantitative FeatureTable\n",
      "# and no parameters. It returns a vector of per-sample alpha diversity\n",
      "# values.\n",
      "qiime diversity-lib observed-features \\\n",
      "  --i-table feature-table.qza \\\n",
      "  --o-vector obs-feat-vector.qza\n",
      "# Our result vector is <CLIUsageVariable name='obs_feat_vector',\n",
      "# var_type='artifact'>\n"
     ]
    }
   ],
   "source": [
    "from q2cli.core.usage import CLIUsage\n",
    "c_use = CLIUsage()\n",
    "cres = ofe(c_use)\n",
    "print(c_use.render())"
   ]
  },
  {
   "cell_type": "code",
   "execution_count": 33,
   "id": "929275d7",
   "metadata": {},
   "outputs": [
    {
     "name": "stdout",
     "output_type": "stream",
     "text": [
      "import qiime2.plugins.diversity_lib.actions as diversity_lib_actions\n",
      "\n",
      "# observed_features takes a basic qualitative or quantitative FeatureTable and no parameters. It returns a vector of per-sample alpha diversity values.\n",
      "obs_feat_vector, = diversity_lib_actions.observed_features(\n",
      "    table=feature_table,\n",
      ")\n",
      "# Our result vector is <ArtifactAPIUsageVariable name='obs_feat_vector', var_type='artifact'>\n",
      "\n",
      "-----------------------------------------------------------------------------------------------\n",
      "\n",
      "import qiime2.plugins.diversity_lib.actions as diversity_lib_actions\n",
      "\n",
      "# observed_features takes a basic qualitative or quantitative FeatureTable and no parameters. It returns a vector of per-sample alpha diversity values.\n",
      "obs_feat_vector, = diversity_lib_actions.observed_features(\n",
      "    table=feature_table,\n",
      ")\n",
      "# Our result vector is <ArtifactAPIUsageVariable name='obs_feat_vector', var_type='artifact'>\n"
     ]
    }
   ],
   "source": [
    "from qiime2.plugins import ArtifactAPIUsage\n",
    "# TODO: This blows up if moved above the ExecutionUsage block, b/c no PluginManager. Why/do we care?\n",
    "art_use = ArtifactAPIUsage()\n",
    "ares = ofe(art_use)\n",
    "print(art_use.render())\n",
    "\n",
    "print(\"\\n-----------------------------------------------------------------------------------------------\\n\")\n",
    "\n",
    "# NOTE: If we re-use a UsageDriver it will keep accreting stuff, making for a tangled render.\n",
    "# Best to fire up a new instance, I suspect.\n",
    "art_use = ArtifactAPIUsage()\n",
    "pares = pofe(art_use)\n",
    "print(art_use.render())"
   ]
  },
  {
   "cell_type": "code",
   "execution_count": 5,
   "id": "4472e9f2",
   "metadata": {},
   "outputs": [
    {
     "name": "stdout",
     "output_type": "stream",
     "text": [
      "<qiime2.sdk.usage.DiagnosticUsage object at 0x7f8d182b3a30>\n",
      "\n",
      "[DiagnosticUsage.DiagnosticUsageRecord(source='comment', variable='observed_features takes a basic qualitative or quantitative FeatureTable and no parameters. It returns a vector of per-sample alpha diversity values.'), DiagnosticUsage.DiagnosticUsageRecord(source='init_artifact', variable=<UsageVariable name='feature_table', var_type='artifact'>), DiagnosticUsage.DiagnosticUsageRecord(source='action', variable=UsageOutputs (name = value)\n",
      "--------------------------------------------------------------------\n",
      "vector = <UsageVariable name='obs_feat_vector', var_type='artifact'>), DiagnosticUsage.DiagnosticUsageRecord(source='comment', variable=\"Our result vector is <UsageVariable name='obs_feat_vector', var_type='artifact'>\")]\n"
     ]
    }
   ],
   "source": [
    "from qiime2.sdk.usage import DiagnosticUsage\n",
    "# TODO: This blows up if moved above the ExecutionUsage block, b/c no PluginManager. Why/do we care?\n",
    "d_use = DiagnosticUsage()\n",
    "dres = ofe(d_use)\n",
    "print(d_use)\n",
    "print()\n",
    "print(d_use.render())"
   ]
  },
  {
   "cell_type": "code",
   "execution_count": null,
   "id": "a911a997",
   "metadata": {},
   "outputs": [],
   "source": [
    "==================================================================================================="
   ]
  },
  {
   "cell_type": "code",
   "execution_count": 6,
   "id": "1f24531d",
   "metadata": {},
   "outputs": [],
   "source": [
    "import numpy as np\n",
    "import biom\n",
    "\n",
    "from qiime2 import Artifact\n",
    "from qiime2.plugins import diversity_lib"
   ]
  },
  {
   "cell_type": "code",
   "execution_count": 7,
   "id": "ef5c1803",
   "metadata": {},
   "outputs": [
    {
     "name": "stdout",
     "output_type": "stream",
     "text": [
      "<artifact: SampleData[AlphaDiversity] uuid: ea4f4f79-1715-42c0-ad1c-b97e2b956ce9>\n"
     ]
    }
   ],
   "source": [
    "# Manually build our result so we can see why the assert is failing - check! nasty whitespace.\n",
    "input = Artifact.import_data(\n",
    "    'FeatureTable[Frequency]',\n",
    "    biom.Table(np.array([[1, 0, .5, 999, 1],\n",
    "                        [0, 1, 2, 0, 5],\n",
    "                        [0, 0, 0, 1, 10]]),\n",
    "               ['A', 'B', 'C'],\n",
    "               ['S1', 'S2', 'S3', 'S4', 'S5']))\n",
    "\n",
    "r, = diversity_lib.methods.observed_features(input)\n",
    "print(r)\n",
    "# r.save('./obs_feat.qza')"
   ]
  },
  {
   "cell_type": "code",
   "execution_count": 50,
   "id": "583767bd",
   "metadata": {
    "scrolled": true
   },
   "outputs": [
    {
     "name": "stdout",
     "output_type": "stream",
     "text": [
      "{'basic': <function observed_features_example at 0x7f8d220319d0>}\n",
      "\n",
      "DiagnosticUsage.DiagnosticUsageRecord(source='comment', variable='observed_features takes a basic qualitative or quantitative FeatureTable and no parameters. It returns a vector of per-sample alpha diversity values.')\n",
      "\n",
      "DiagnosticUsage.DiagnosticUsageRecord(source='init_artifact', variable=<UsageVariable name='feature_table', var_type='artifact'>)\n",
      "\n",
      "DiagnosticUsage.DiagnosticUsageRecord(source='action', variable=UsageOutputs (name = value)\n",
      "--------------------------------------------------------------------\n",
      "vector = <UsageVariable name='obs_feat_vector', var_type='artifact'>)\n",
      "\n",
      "DiagnosticUsage.DiagnosticUsageRecord(source='comment', variable=\"Our result vector is <UsageVariable name='obs_feat_vector', var_type='artifact'>\")\n",
      "\n",
      "init_artifact\n",
      "<UsageVariable name='feature_table', var_type='artifact'>\n"
     ]
    }
   ],
   "source": [
    "from qiime2.plugins import diversity_lib\n",
    "pofe = diversity_lib.methods.observed_features.examples\n",
    "print(pofe)\n",
    "print()\n",
    "d_use = DiagnosticUsage()\n",
    "pofe['basic'](d_use)\n",
    "steps = d_use.render()\n",
    "step1, step2, step3, step4 = steps\n",
    "for step in steps:\n",
    "    pprint.pp(step)\n",
    "    print()\n",
    "    \n",
    "# These values happen to be here for the DiagnosticUsage driver,\n",
    "# but ExecutionDriver (e.g.) has different attributes\n",
    "print(step2.source)\n",
    "print(step2.variable)\n"
   ]
  },
  {
   "cell_type": "code",
   "execution_count": 70,
   "id": "41730c4a",
   "metadata": {},
   "outputs": [
    {
     "name": "stdout",
     "output_type": "stream",
     "text": [
      "{'feature_table': <ExecutionUsageVariable name='feature_table', var_type='artifact'>, 'obs_feat_vector': <ExecutionUsageVariable name='obs_feat_vector', var_type='artifact'>}\n"
     ]
    },
    {
     "data": {
      "text/plain": [
       "'feature_data_deleteme.qza'"
      ]
     },
     "execution_count": 70,
     "metadata": {},
     "output_type": "execute_result"
    }
   ],
   "source": [
    "## We can (and should not) save ExecutionUsageVariables\n",
    "\n",
    "ex_use = ExecutionUsage()\n",
    "eres = ofe(ex_use)\n",
    "res = ex_use.render()\n",
    "print(res)\n",
    "\n",
    "# This is verboten... but it works!\n",
    "# we are definitely making real Results with the ExecutionDriver\n",
    "res['obs_feat_vector'].save('feature_data_deleteme.qza')\n"
   ]
  },
  {
   "cell_type": "code",
   "execution_count": null,
   "id": "66243683",
   "metadata": {},
   "outputs": [],
   "source": []
  }
 ],
 "metadata": {
  "kernelspec": {
   "display_name": "Python 3 (ipykernel)",
   "language": "python",
   "name": "python3"
  },
  "language_info": {
   "codemirror_mode": {
    "name": "ipython",
    "version": 3
   },
   "file_extension": ".py",
   "mimetype": "text/x-python",
   "name": "python",
   "nbconvert_exporter": "python",
   "pygments_lexer": "ipython3",
   "version": "3.8.12"
  }
 },
 "nbformat": 4,
 "nbformat_minor": 5
}
